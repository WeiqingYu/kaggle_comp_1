{
 "cells": [
  {
   "cell_type": "markdown",
   "metadata": {},
   "source": [
    "# Kaggle Competition: Don't Get Kicked\n",
    "## General Procedure\n",
    "For this project, I will start from going through the data and identifying some basic properties of the data. Then, I will preprocess and reformat the data. After that, I am going to fit the data into a Extreme Gradient Boosting model (as most Kagglers do :>). Eventually, I will give some analysis on the prediction results.\n",
    "\n",
    "## Data Exploration\n",
    "We first need to import the data. Variable `train` is the training data without label column `IsBadBuy` and the first `RefId` column, and `test` is the testing data. Ground truth labels are stored in variable `lab`."
   ]
  },
  {
   "cell_type": "code",
   "execution_count": 1,
   "metadata": {
    "collapsed": false
   },
   "outputs": [
    {
     "name": "stderr",
     "output_type": "stream",
     "text": [
      "/Users/weiqingyu/anaconda/lib/python3.5/site-packages/sklearn/cross_validation.py:41: DeprecationWarning: This module was deprecated in version 0.18 in favor of the model_selection module into which all the refactored classes and functions are moved. Also note that the interface of the new CV iterators are different from that of this module. This module will be removed in 0.20.\n",
      "  \"This module will be removed in 0.20.\", DeprecationWarning)\n"
     ]
    },
    {
     "data": {
      "text/html": [
       "<div>\n",
       "<table border=\"1\" class=\"dataframe\">\n",
       "  <thead>\n",
       "    <tr style=\"text-align: right;\">\n",
       "      <th></th>\n",
       "      <th>PurchDate</th>\n",
       "      <th>Auction</th>\n",
       "      <th>VehYear</th>\n",
       "      <th>VehicleAge</th>\n",
       "      <th>Make</th>\n",
       "      <th>Model</th>\n",
       "      <th>Trim</th>\n",
       "      <th>SubModel</th>\n",
       "      <th>Color</th>\n",
       "      <th>Transmission</th>\n",
       "      <th>...</th>\n",
       "      <th>MMRCurrentRetailAveragePrice</th>\n",
       "      <th>MMRCurrentRetailCleanPrice</th>\n",
       "      <th>PRIMEUNIT</th>\n",
       "      <th>AUCGUART</th>\n",
       "      <th>BYRNO</th>\n",
       "      <th>VNZIP1</th>\n",
       "      <th>VNST</th>\n",
       "      <th>VehBCost</th>\n",
       "      <th>IsOnlineSale</th>\n",
       "      <th>WarrantyCost</th>\n",
       "    </tr>\n",
       "  </thead>\n",
       "  <tbody>\n",
       "    <tr>\n",
       "      <th>0</th>\n",
       "      <td>12/7/2009</td>\n",
       "      <td>ADESA</td>\n",
       "      <td>2006</td>\n",
       "      <td>3</td>\n",
       "      <td>MAZDA</td>\n",
       "      <td>MAZDA3</td>\n",
       "      <td>i</td>\n",
       "      <td>4D SEDAN I</td>\n",
       "      <td>RED</td>\n",
       "      <td>AUTO</td>\n",
       "      <td>...</td>\n",
       "      <td>11597.0</td>\n",
       "      <td>12409.0</td>\n",
       "      <td>NaN</td>\n",
       "      <td>NaN</td>\n",
       "      <td>21973</td>\n",
       "      <td>33619</td>\n",
       "      <td>FL</td>\n",
       "      <td>7100.0</td>\n",
       "      <td>0</td>\n",
       "      <td>1113</td>\n",
       "    </tr>\n",
       "    <tr>\n",
       "      <th>1</th>\n",
       "      <td>12/7/2009</td>\n",
       "      <td>ADESA</td>\n",
       "      <td>2004</td>\n",
       "      <td>5</td>\n",
       "      <td>DODGE</td>\n",
       "      <td>1500 RAM PICKUP 2WD</td>\n",
       "      <td>ST</td>\n",
       "      <td>QUAD CAB 4.7L SLT</td>\n",
       "      <td>WHITE</td>\n",
       "      <td>AUTO</td>\n",
       "      <td>...</td>\n",
       "      <td>11374.0</td>\n",
       "      <td>12791.0</td>\n",
       "      <td>NaN</td>\n",
       "      <td>NaN</td>\n",
       "      <td>19638</td>\n",
       "      <td>33619</td>\n",
       "      <td>FL</td>\n",
       "      <td>7600.0</td>\n",
       "      <td>0</td>\n",
       "      <td>1053</td>\n",
       "    </tr>\n",
       "    <tr>\n",
       "      <th>2</th>\n",
       "      <td>12/7/2009</td>\n",
       "      <td>ADESA</td>\n",
       "      <td>2005</td>\n",
       "      <td>4</td>\n",
       "      <td>DODGE</td>\n",
       "      <td>STRATUS V6</td>\n",
       "      <td>SXT</td>\n",
       "      <td>4D SEDAN SXT FFV</td>\n",
       "      <td>MAROON</td>\n",
       "      <td>AUTO</td>\n",
       "      <td>...</td>\n",
       "      <td>7146.0</td>\n",
       "      <td>8702.0</td>\n",
       "      <td>NaN</td>\n",
       "      <td>NaN</td>\n",
       "      <td>19638</td>\n",
       "      <td>33619</td>\n",
       "      <td>FL</td>\n",
       "      <td>4900.0</td>\n",
       "      <td>0</td>\n",
       "      <td>1389</td>\n",
       "    </tr>\n",
       "    <tr>\n",
       "      <th>3</th>\n",
       "      <td>12/7/2009</td>\n",
       "      <td>ADESA</td>\n",
       "      <td>2004</td>\n",
       "      <td>5</td>\n",
       "      <td>DODGE</td>\n",
       "      <td>NEON</td>\n",
       "      <td>SXT</td>\n",
       "      <td>4D SEDAN</td>\n",
       "      <td>SILVER</td>\n",
       "      <td>AUTO</td>\n",
       "      <td>...</td>\n",
       "      <td>4375.0</td>\n",
       "      <td>5518.0</td>\n",
       "      <td>NaN</td>\n",
       "      <td>NaN</td>\n",
       "      <td>19638</td>\n",
       "      <td>33619</td>\n",
       "      <td>FL</td>\n",
       "      <td>4100.0</td>\n",
       "      <td>0</td>\n",
       "      <td>630</td>\n",
       "    </tr>\n",
       "    <tr>\n",
       "      <th>4</th>\n",
       "      <td>12/7/2009</td>\n",
       "      <td>ADESA</td>\n",
       "      <td>2005</td>\n",
       "      <td>4</td>\n",
       "      <td>FORD</td>\n",
       "      <td>FOCUS</td>\n",
       "      <td>ZX3</td>\n",
       "      <td>2D COUPE ZX3</td>\n",
       "      <td>SILVER</td>\n",
       "      <td>MANUAL</td>\n",
       "      <td>...</td>\n",
       "      <td>6739.0</td>\n",
       "      <td>7911.0</td>\n",
       "      <td>NaN</td>\n",
       "      <td>NaN</td>\n",
       "      <td>19638</td>\n",
       "      <td>33619</td>\n",
       "      <td>FL</td>\n",
       "      <td>4000.0</td>\n",
       "      <td>0</td>\n",
       "      <td>1020</td>\n",
       "    </tr>\n",
       "  </tbody>\n",
       "</table>\n",
       "<p>5 rows × 32 columns</p>\n",
       "</div>"
      ],
      "text/plain": [
       "   PurchDate Auction  VehYear  VehicleAge   Make                Model Trim  \\\n",
       "0  12/7/2009   ADESA     2006           3  MAZDA               MAZDA3    i   \n",
       "1  12/7/2009   ADESA     2004           5  DODGE  1500 RAM PICKUP 2WD   ST   \n",
       "2  12/7/2009   ADESA     2005           4  DODGE           STRATUS V6  SXT   \n",
       "3  12/7/2009   ADESA     2004           5  DODGE                 NEON  SXT   \n",
       "4  12/7/2009   ADESA     2005           4   FORD                FOCUS  ZX3   \n",
       "\n",
       "            SubModel   Color Transmission      ...       \\\n",
       "0         4D SEDAN I     RED         AUTO      ...        \n",
       "1  QUAD CAB 4.7L SLT   WHITE         AUTO      ...        \n",
       "2   4D SEDAN SXT FFV  MAROON         AUTO      ...        \n",
       "3           4D SEDAN  SILVER         AUTO      ...        \n",
       "4       2D COUPE ZX3  SILVER       MANUAL      ...        \n",
       "\n",
       "   MMRCurrentRetailAveragePrice MMRCurrentRetailCleanPrice  PRIMEUNIT  \\\n",
       "0                       11597.0                    12409.0        NaN   \n",
       "1                       11374.0                    12791.0        NaN   \n",
       "2                        7146.0                     8702.0        NaN   \n",
       "3                        4375.0                     5518.0        NaN   \n",
       "4                        6739.0                     7911.0        NaN   \n",
       "\n",
       "  AUCGUART  BYRNO VNZIP1  VNST  VehBCost  IsOnlineSale  WarrantyCost  \n",
       "0      NaN  21973  33619    FL    7100.0             0          1113  \n",
       "1      NaN  19638  33619    FL    7600.0             0          1053  \n",
       "2      NaN  19638  33619    FL    4900.0             0          1389  \n",
       "3      NaN  19638  33619    FL    4100.0             0           630  \n",
       "4      NaN  19638  33619    FL    4000.0             0          1020  \n",
       "\n",
       "[5 rows x 32 columns]"
      ]
     },
     "execution_count": 1,
     "metadata": {},
     "output_type": "execute_result"
    }
   ],
   "source": [
    "import numpy as np\n",
    "import pandas as pd\n",
    "import xgboost as xgb\n",
    "from sklearn.feature_extraction import DictVectorizer\n",
    "from sklearn.decomposition import PCA \n",
    "import matplotlib.pyplot as plt\n",
    "\n",
    "train = pd.read_csv('training.csv')\n",
    "test = pd.read_csv('test.csv')\n",
    "lab = train['IsBadBuy']\n",
    "ntrain = len(train)\n",
    "train = train.drop('IsBadBuy',axis=1)\n",
    "train = train.drop('RefId',axis=1)\n",
    "test = test.drop('RefId',axis=1)\n",
    "train.head()"
   ]
  },
  {
   "cell_type": "markdown",
   "metadata": {},
   "source": [
    "\n",
    "After importing the data, we want to have some basic insights into the data. The first thing that I check is the percentage of \"kicks\" in the training set. As it shows below, there is only 12% of the data that have been labeled as 1, which means random guessing (always predicts 0) has 88% accuracy. In terms of prediction accuracy, we do not want to have any model that has accuracy lower than 88%. Also, this indicates that we should use AUC, Gini Index, or weighted accuracy as a evaluation metric. The reason is that although \"kicks\" don't happens a lot, the loss of not identifying a \"kick\" is usually greater than misjudge a \"non-kick\". Therefore, we probably want to put more weights to the True Positive cases when calculating accuracy. \n",
    "\n",
    "Also, I examine the correlation coeffients among the numerical variables in the data. Since multicollinearity is usually a big problem in prediction models. And as it shows below, there are some highly correlated variables, e.g. 'MMRAcquisitionAuctionAveragePrice', 'MMRAcquisitionAuctionCleanPrice', and etc. These variables corresponds to the light area in the heatmap.\n"
   ]
  },
  {
   "cell_type": "code",
   "execution_count": 2,
   "metadata": {
    "collapsed": false
   },
   "outputs": [
    {
     "name": "stdout",
     "output_type": "stream",
     "text": [
      "Ratio of kicked case: 0.122987545045\n",
      "Index(['VehYear', 'VehicleAge', 'WheelTypeID', 'VehOdo',\n",
      "       'MMRAcquisitionAuctionAveragePrice', 'MMRAcquisitionAuctionCleanPrice',\n",
      "       'MMRAcquisitionRetailAveragePrice', 'MMRAcquisitonRetailCleanPrice',\n",
      "       'MMRCurrentAuctionAveragePrice', 'MMRCurrentAuctionCleanPrice',\n",
      "       'MMRCurrentRetailAveragePrice', 'MMRCurrentRetailCleanPrice', 'BYRNO',\n",
      "       'VNZIP1', 'VehBCost', 'IsOnlineSale', 'WarrantyCost'],\n",
      "      dtype='object')\n"
     ]
    },
    {
     "data": {
      "image/png": "[encoded data removed]",
      "text/plain": [
       "<matplotlib.figure.Figure at 0x1045ee668>"
      ]
     },
     "metadata": {},
     "output_type": "display_data"
    }
   ],
   "source": [
    "print('Ratio of kicked case:', sum(lab==1)/len(lab))\n",
    "datcheck = train.loc[:,train.dtypes!=object].sample(1000).values\n",
    "datcheck[np.isnan(datcheck)]=0\n",
    "cor1 = np.corrcoef(datcheck.transpose())\n",
    "print(train.columns[train.dtypes!=object])\n",
    "plt.imshow(cor1, cmap='hot', interpolation='nearest')\n",
    "plt.show()"
   ]
  },
  {
   "cell_type": "markdown",
   "metadata": {},
   "source": [
    "I also check missing entries in the data. As it shows below, for most variables, there is not much missing entries. As for \"PRIMEUNIT\" and \"AUCGUART\", most of their entries are `NaN`. In general, I think missing data is not a big issue in this problem."
   ]
  },
  {
   "cell_type": "code",
   "execution_count": 3,
   "metadata": {
    "collapsed": false
   },
   "outputs": [
    {
     "data": {
      "text/plain": [
       "PurchDate                                0\n",
       "Auction                                  0\n",
       "VehYear                                  0\n",
       "VehicleAge                               0\n",
       "Make                                     0\n",
       "Model                                    0\n",
       "Trim                                  2360\n",
       "SubModel                                 8\n",
       "Color                                    8\n",
       "Transmission                             9\n",
       "WheelTypeID                           3169\n",
       "WheelType                             3174\n",
       "VehOdo                                   0\n",
       "Nationality                              5\n",
       "Size                                     5\n",
       "TopThreeAmericanName                     5\n",
       "MMRAcquisitionAuctionAveragePrice       18\n",
       "MMRAcquisitionAuctionCleanPrice         18\n",
       "MMRAcquisitionRetailAveragePrice        18\n",
       "MMRAcquisitonRetailCleanPrice           18\n",
       "MMRCurrentAuctionAveragePrice          315\n",
       "MMRCurrentAuctionCleanPrice            315\n",
       "MMRCurrentRetailAveragePrice           315\n",
       "MMRCurrentRetailCleanPrice             315\n",
       "PRIMEUNIT                            69564\n",
       "AUCGUART                             69564\n",
       "BYRNO                                    0\n",
       "VNZIP1                                   0\n",
       "VNST                                     0\n",
       "VehBCost                                 0\n",
       "IsOnlineSale                             0\n",
       "WarrantyCost                             0\n",
       "dtype: int64"
      ]
     },
     "execution_count": 3,
     "metadata": {},
     "output_type": "execute_result"
    }
   ],
   "source": [
    "train.isnull().sum()"
   ]
  },
  {
   "cell_type": "markdown",
   "metadata": {},
   "source": [
    "## Data Preprocessing\n",
    "After some basic exploration of data, I am ready to process the data. First, I convert the `PurchDate` column from string to numeric (timestamp).  "
   ]
  },
  {
   "cell_type": "code",
   "execution_count": 4,
   "metadata": {
    "collapsed": false
   },
   "outputs": [],
   "source": [
    "train['PurchDate'] = pd.to_datetime(train['PurchDate']).values.astype(np.int64)/1000000000000\n",
    "test['PurchDate'] = pd.to_datetime(test['PurchDate']).values.astype(np.int64)/1000000000000"
   ]
  },
  {
   "cell_type": "markdown",
   "metadata": {},
   "source": [
    "Then I want to deal with the categorical variables in the data. For this basic model, I just convert all the categorical variables to dummy variables."
   ]
  },
  {
   "cell_type": "code",
   "execution_count": 5,
   "metadata": {
    "collapsed": false
   },
   "outputs": [],
   "source": [
    "aldat = pd.concat([train,test],ignore_index=True)\n",
    "aldat = pd.get_dummies(aldat)\n",
    "train = aldat.iloc[:ntrain,].values\n",
    "test = aldat.iloc[ntrain:,].values"
   ]
  },
  {
   "cell_type": "markdown",
   "metadata": {},
   "source": [
    "Then, as I have discussed previously, missing data is not really a big issue here. Consequently, I just set all of the `NaN` to 0."
   ]
  },
  {
   "cell_type": "code",
   "execution_count": 6,
   "metadata": {
    "collapsed": false
   },
   "outputs": [
    {
     "data": {
      "text/plain": [
       "(72983, 2339)"
      ]
     },
     "execution_count": 6,
     "metadata": {},
     "output_type": "execute_result"
    }
   ],
   "source": [
    "train[np.isnan(train)] = 0\n",
    "test[np.isnan(test)] = 0\n",
    "train.shape"
   ]
  },
  {
   "cell_type": "markdown",
   "metadata": {},
   "source": [
    "As it shows above, dimension of training dataset expands to 2339, which is too large. Besides, I have identified multicollinearity in this data. Therefore, PCA is applied to reduce dimension."
   ]
  },
  {
   "cell_type": "code",
   "execution_count": 7,
   "metadata": {
    "collapsed": false
   },
   "outputs": [
    {
     "data": {
      "text/plain": [
       "PCA(copy=True, iterated_power='auto', n_components=40, random_state=None,\n",
       "  svd_solver='auto', tol=0.0, whiten=False)"
      ]
     },
     "execution_count": 7,
     "metadata": {},
     "output_type": "execute_result"
    }
   ],
   "source": [
    "pcamodel = PCA(n_components=40)\n",
    "pcamodel.fit(train)"
   ]
  },
  {
   "cell_type": "code",
   "execution_count": 8,
   "metadata": {
    "collapsed": false
   },
   "outputs": [],
   "source": [
    "train = pcamodel.transform(train)\n",
    "test = pcamodel.transform(test)"
   ]
  },
  {
   "cell_type": "markdown",
   "metadata": {},
   "source": [
    "## Model Fitting\n",
    "After processing the data, we are ready to fit the data into the model. Before running the model, I seperated 3% of training data out as the validation set."
   ]
  },
  {
   "cell_type": "code",
   "execution_count": 9,
   "metadata": {
    "collapsed": false
   },
   "outputs": [],
   "source": [
    "samp = np.random.rand(ntrain)<0.97\n",
    "train, lab1, cross, lab2 = train[samp], lab[samp], train[~samp], lab[~samp]\n",
    "xgtest = xgb.DMatrix(test)\n",
    "xgtrain = xgb.DMatrix(train,label=lab1)\n",
    "xgeval = xgb.DMatrix(cross,label=lab2)\n",
    "evallist = [(xgtrain,'train'),(xgeval,'val')]"
   ]
  },
  {
   "cell_type": "markdown",
   "metadata": {},
   "source": [
    "The parameters of XGBoost are set as below. Personally, I think the important parameters are:\n",
    "* `max_depth`: Controls the maximum depth of the decision tree. It directly affects the complexity of the model.\n",
    "* `num_boost_round`: Number of tree to build. Also directly affacts the complexity of the model.\n",
    "* `lambda` and `alpha`: These two parameters regularize the model and prevents overfitting."
   ]
  },
  {
   "cell_type": "code",
   "execution_count": 10,
   "metadata": {
    "collapsed": false
   },
   "outputs": [
    {
     "name": "stdout",
     "output_type": "stream",
     "text": [
      "[0]\ttrain-auc:0.722872\ttrain-error:0.100774\tval-auc:0.707418\tval-error:0.10986\n",
      "[1]\ttrain-auc:0.738522\ttrain-error:0.099333\tval-auc:0.720603\tval-error:0.105358\n",
      "[2]\ttrain-auc:0.75113\ttrain-error:0.098033\tval-auc:0.729358\tval-error:0.104457\n",
      "[3]\ttrain-auc:0.758735\ttrain-error:0.097778\tval-auc:0.737913\tval-error:0.103557\n",
      "[4]\ttrain-auc:0.762771\ttrain-error:0.097369\tval-auc:0.739294\tval-error:0.103557\n",
      "[5]\ttrain-auc:0.770103\ttrain-error:0.097029\tval-auc:0.738142\tval-error:0.103557\n",
      "[6]\ttrain-auc:0.776279\ttrain-error:0.0971\tval-auc:0.741673\tval-error:0.102206\n",
      "[7]\ttrain-auc:0.782315\ttrain-error:0.096704\tval-auc:0.736828\tval-error:0.102206\n",
      "[8]\ttrain-auc:0.788401\ttrain-error:0.096591\tval-auc:0.735218\tval-error:0.102206\n",
      "[9]\ttrain-auc:0.792015\ttrain-error:0.096054\tval-auc:0.734998\tval-error:0.100855\n",
      "[10]\ttrain-auc:0.797061\ttrain-error:0.095871\tval-auc:0.730803\tval-error:0.100855\n",
      "[11]\ttrain-auc:0.804118\ttrain-error:0.095913\tval-auc:0.732549\tval-error:0.101306\n",
      "[12]\ttrain-auc:0.813337\ttrain-error:0.095743\tval-auc:0.73275\tval-error:0.101306\n",
      "[13]\ttrain-auc:0.819822\ttrain-error:0.095362\tval-auc:0.734706\tval-error:0.100855\n",
      "[14]\ttrain-auc:0.825888\ttrain-error:0.095178\tval-auc:0.734679\tval-error:0.102206\n",
      "[15]\ttrain-auc:0.829975\ttrain-error:0.094881\tval-auc:0.735724\tval-error:0.101756\n",
      "[16]\ttrain-auc:0.836265\ttrain-error:0.094641\tval-auc:0.739213\tval-error:0.101306\n",
      "[17]\ttrain-auc:0.841188\ttrain-error:0.094641\tval-auc:0.742065\tval-error:0.101756\n",
      "[18]\ttrain-auc:0.846299\ttrain-error:0.09426\tval-auc:0.742588\tval-error:0.100855\n",
      "[19]\ttrain-auc:0.851405\ttrain-error:0.094034\tval-auc:0.744323\tval-error:0.101306\n",
      "[20]\ttrain-auc:0.855724\ttrain-error:0.093892\tval-auc:0.742621\tval-error:0.100855\n",
      "[21]\ttrain-auc:0.860338\ttrain-error:0.093737\tval-auc:0.742441\tval-error:0.101306\n",
      "[22]\ttrain-auc:0.863892\ttrain-error:0.093694\tval-auc:0.745001\tval-error:0.101756\n",
      "[23]\ttrain-auc:0.867627\ttrain-error:0.093398\tval-auc:0.745746\tval-error:0.100855\n",
      "[24]\ttrain-auc:0.873364\ttrain-error:0.093355\tval-auc:0.746246\tval-error:0.100405\n",
      "[25]\ttrain-auc:0.875913\ttrain-error:0.093143\tval-auc:0.74517\tval-error:0.101306\n",
      "[26]\ttrain-auc:0.880587\ttrain-error:0.092861\tval-auc:0.747497\tval-error:0.101306\n",
      "[27]\ttrain-auc:0.886493\ttrain-error:0.092225\tval-auc:0.748673\tval-error:0.099955\n",
      "[28]\ttrain-auc:0.890144\ttrain-error:0.092168\tval-auc:0.74785\tval-error:0.099955\n",
      "[29]\ttrain-auc:0.892467\ttrain-error:0.091758\tval-auc:0.747898\tval-error:0.099505\n"
     ]
    }
   ],
   "source": [
    "param = {'max_depth':12, 'eta':0.1, 'silent':1, 'objective':'binary:logistic',\n",
    "         'subsample':0.3,'lambda':1.5,'alpha':1, 'eval_metric':['auc','error']}\n",
    "xgmodel = xgb.train(param,xgtrain,num_boost_round=30,evals=evallist)"
   ]
  },
  {
   "cell_type": "markdown",
   "metadata": {},
   "source": [
    "## Result Analysis\n",
    "After we train the model, we can get the prediction on the validation set. The output of our prediction is a probability. As it shows below, the false negative rate is pretty high, and that is the part that should be improved."
   ]
  },
  {
   "cell_type": "code",
   "execution_count": 11,
   "metadata": {
    "collapsed": false
   },
   "outputs": [],
   "source": [
    "pred = xgmodel.predict(xgeval)"
   ]
  },
  {
   "cell_type": "code",
   "execution_count": 12,
   "metadata": {
    "collapsed": false
   },
   "outputs": [
    {
     "name": "stdout",
     "output_type": "stream",
     "text": [
      "70 7\n",
      "214 1930\n"
     ]
    }
   ],
   "source": [
    "lab2.index=range(len(lab2))\n",
    "xpred = pred>0.5\n",
    "print(sum(np.logical_and(xpred==1,lab2==1)),sum(np.logical_and(xpred==1,lab2==0)))\n",
    "print(sum(np.logical_and(xpred==0,lab2==1)),sum(np.logical_and(xpred==0,lab2==0)))\n"
   ]
  },
  {
   "cell_type": "markdown",
   "metadata": {},
   "source": [
    "## Improvements\n",
    "* Modify the objective function to make it more suitable for our problem. We want to put more focus on the True Positive cases, maybe we can put more weights on the cases labeled as 1.\n",
    "* Carefully check if there is categorical variables that is ordinal. For those variables, we should convert them directly into numerical variables, instead of dummy variables.\n",
    "* Deal with the multicollinearity problem through feature engineering. Even though we applied PCA, which deals with multicollinearity in some way, highly dependent predictors still influence the performance of model as discussed in [here](https://stats.stackexchange.com/questions/50537/should-one-remove-highly-correlated-variables-before-doing-pca). \n",
    "* Implement ensemble methods to combine results from multiple algorithms usually helps to boost the accuracy.\n",
    "* Use feature engineering and exploratory analysis to create better features."
   ]
  },
  {
   "cell_type": "code",
   "execution_count": null,
   "metadata": {
    "collapsed": true
   },
   "outputs": [],
   "source": []
  }
 ],
 "metadata": {
  "kernelspec": {
   "display_name": "Python 3",
   "language": "python",
   "name": "python3"
  },
  "language_info": {
   "codemirror_mode": {
    "name": "ipython",
    "version": 3
   },
   "file_extension": ".py",
   "mimetype": "text/x-python",
   "name": "python",
   "nbconvert_exporter": "python",
   "pygments_lexer": "ipython3",
   "version": "3.5.2"
  }
 },
 "nbformat": 4,
 "nbformat_minor": 2
}
