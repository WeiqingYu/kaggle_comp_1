{
 "cells": [
  {
   "cell_type": "markdown",
   "metadata": {},
   "source": [
    "# Kaggle Competition: Don't Get Kicked\n",
    "## General Procedure\n",
    "For this project, I will start from going through the data and identifying some basic properties of the data. Then, I will preprocess and reformat the data. After that, I am going to fit the data into a Extreme Gradient Boosting model (as most Kagglers do :>). Eventually, I will give some analysis on the prediction results.\n",
    "\n",
    "## Data Exploration\n",
    "We first need to import the data. Variable `train` is the training data without label column `IsBadBuy` and the first `RefId` column, and `test` is the testing data. Ground truth labels are stored in variable `lab`."
   ]
  },
  {
   "cell_type": "code",
   "execution_count": 1,
   "metadata": {
    "collapsed": false
   },
   "outputs": [
    {
     "name": "stderr",
     "output_type": "stream",
     "text": [
      "/Users/weiqingyu/anaconda/lib/python3.5/site-packages/sklearn/cross_validation.py:41: DeprecationWarning: This module was deprecated in version 0.18 in favor of the model_selection module into which all the refactored classes and functions are moved. Also note that the interface of the new CV iterators are different from that of this module. This module will be removed in 0.20.\n",
      "  \"This module will be removed in 0.20.\", DeprecationWarning)\n"
     ]
    },
    {
     "data": {
      "text/html": [
       "<div>\n",
       "<table border=\"1\" class=\"dataframe\">\n",
       "  <thead>\n",
       "    <tr style=\"text-align: right;\">\n",
       "      <th></th>\n",
       "      <th>PurchDate</th>\n",
       "      <th>Auction</th>\n",
       "      <th>VehYear</th>\n",
       "      <th>VehicleAge</th>\n",
       "      <th>Make</th>\n",
       "      <th>Model</th>\n",
       "      <th>Trim</th>\n",
       "      <th>SubModel</th>\n",
       "      <th>Color</th>\n",
       "      <th>Transmission</th>\n",
       "      <th>...</th>\n",
       "      <th>MMRCurrentRetailAveragePrice</th>\n",
       "      <th>MMRCurrentRetailCleanPrice</th>\n",
       "      <th>PRIMEUNIT</th>\n",
       "      <th>AUCGUART</th>\n",
       "      <th>BYRNO</th>\n",
       "      <th>VNZIP1</th>\n",
       "      <th>VNST</th>\n",
       "      <th>VehBCost</th>\n",
       "      <th>IsOnlineSale</th>\n",
       "      <th>WarrantyCost</th>\n",
       "    </tr>\n",
       "  </thead>\n",
       "  <tbody>\n",
       "    <tr>\n",
       "      <th>0</th>\n",
       "      <td>12/7/2009</td>\n",
       "      <td>ADESA</td>\n",
       "      <td>2006</td>\n",
       "      <td>3</td>\n",
       "      <td>MAZDA</td>\n",
       "      <td>MAZDA3</td>\n",
       "      <td>i</td>\n",
       "      <td>4D SEDAN I</td>\n",
       "      <td>RED</td>\n",
       "      <td>AUTO</td>\n",
       "      <td>...</td>\n",
       "      <td>11597.0</td>\n",
       "      <td>12409.0</td>\n",
       "      <td>NaN</td>\n",
       "      <td>NaN</td>\n",
       "      <td>21973</td>\n",
       "      <td>33619</td>\n",
       "      <td>FL</td>\n",
       "      <td>7100.0</td>\n",
       "      <td>0</td>\n",
       "      <td>1113</td>\n",
       "    </tr>\n",
       "    <tr>\n",
       "      <th>1</th>\n",
       "      <td>12/7/2009</td>\n",
       "      <td>ADESA</td>\n",
       "      <td>2004</td>\n",
       "      <td>5</td>\n",
       "      <td>DODGE</td>\n",
       "      <td>1500 RAM PICKUP 2WD</td>\n",
       "      <td>ST</td>\n",
       "      <td>QUAD CAB 4.7L SLT</td>\n",
       "      <td>WHITE</td>\n",
       "      <td>AUTO</td>\n",
       "      <td>...</td>\n",
       "      <td>11374.0</td>\n",
       "      <td>12791.0</td>\n",
       "      <td>NaN</td>\n",
       "      <td>NaN</td>\n",
       "      <td>19638</td>\n",
       "      <td>33619</td>\n",
       "      <td>FL</td>\n",
       "      <td>7600.0</td>\n",
       "      <td>0</td>\n",
       "      <td>1053</td>\n",
       "    </tr>\n",
       "    <tr>\n",
       "      <th>2</th>\n",
       "      <td>12/7/2009</td>\n",
       "      <td>ADESA</td>\n",
       "      <td>2005</td>\n",
       "      <td>4</td>\n",
       "      <td>DODGE</td>\n",
       "      <td>STRATUS V6</td>\n",
       "      <td>SXT</td>\n",
       "      <td>4D SEDAN SXT FFV</td>\n",
       "      <td>MAROON</td>\n",
       "      <td>AUTO</td>\n",
       "      <td>...</td>\n",
       "      <td>7146.0</td>\n",
       "      <td>8702.0</td>\n",
       "      <td>NaN</td>\n",
       "      <td>NaN</td>\n",
       "      <td>19638</td>\n",
       "      <td>33619</td>\n",
       "      <td>FL</td>\n",
       "      <td>4900.0</td>\n",
       "      <td>0</td>\n",
       "      <td>1389</td>\n",
       "    </tr>\n",
       "    <tr>\n",
       "      <th>3</th>\n",
       "      <td>12/7/2009</td>\n",
       "      <td>ADESA</td>\n",
       "      <td>2004</td>\n",
       "      <td>5</td>\n",
       "      <td>DODGE</td>\n",
       "      <td>NEON</td>\n",
       "      <td>SXT</td>\n",
       "      <td>4D SEDAN</td>\n",
       "      <td>SILVER</td>\n",
       "      <td>AUTO</td>\n",
       "      <td>...</td>\n",
       "      <td>4375.0</td>\n",
       "      <td>5518.0</td>\n",
       "      <td>NaN</td>\n",
       "      <td>NaN</td>\n",
       "      <td>19638</td>\n",
       "      <td>33619</td>\n",
       "      <td>FL</td>\n",
       "      <td>4100.0</td>\n",
       "      <td>0</td>\n",
       "      <td>630</td>\n",
       "    </tr>\n",
       "    <tr>\n",
       "      <th>4</th>\n",
       "      <td>12/7/2009</td>\n",
       "      <td>ADESA</td>\n",
       "      <td>2005</td>\n",
       "      <td>4</td>\n",
       "      <td>FORD</td>\n",
       "      <td>FOCUS</td>\n",
       "      <td>ZX3</td>\n",
       "      <td>2D COUPE ZX3</td>\n",
       "      <td>SILVER</td>\n",
       "      <td>MANUAL</td>\n",
       "      <td>...</td>\n",
       "      <td>6739.0</td>\n",
       "      <td>7911.0</td>\n",
       "      <td>NaN</td>\n",
       "      <td>NaN</td>\n",
       "      <td>19638</td>\n",
       "      <td>33619</td>\n",
       "      <td>FL</td>\n",
       "      <td>4000.0</td>\n",
       "      <td>0</td>\n",
       "      <td>1020</td>\n",
       "    </tr>\n",
       "  </tbody>\n",
       "</table>\n",
       "<p>5 rows × 32 columns</p>\n",
       "</div>"
      ],
      "text/plain": [
       "   PurchDate Auction  VehYear  VehicleAge   Make                Model Trim  \\\n",
       "0  12/7/2009   ADESA     2006           3  MAZDA               MAZDA3    i   \n",
       "1  12/7/2009   ADESA     2004           5  DODGE  1500 RAM PICKUP 2WD   ST   \n",
       "2  12/7/2009   ADESA     2005           4  DODGE           STRATUS V6  SXT   \n",
       "3  12/7/2009   ADESA     2004           5  DODGE                 NEON  SXT   \n",
       "4  12/7/2009   ADESA     2005           4   FORD                FOCUS  ZX3   \n",
       "\n",
       "            SubModel   Color Transmission      ...       \\\n",
       "0         4D SEDAN I     RED         AUTO      ...        \n",
       "1  QUAD CAB 4.7L SLT   WHITE         AUTO      ...        \n",
       "2   4D SEDAN SXT FFV  MAROON         AUTO      ...        \n",
       "3           4D SEDAN  SILVER         AUTO      ...        \n",
       "4       2D COUPE ZX3  SILVER       MANUAL      ...        \n",
       "\n",
       "   MMRCurrentRetailAveragePrice MMRCurrentRetailCleanPrice  PRIMEUNIT  \\\n",
       "0                       11597.0                    12409.0        NaN   \n",
       "1                       11374.0                    12791.0        NaN   \n",
       "2                        7146.0                     8702.0        NaN   \n",
       "3                        4375.0                     5518.0        NaN   \n",
       "4                        6739.0                     7911.0        NaN   \n",
       "\n",
       "  AUCGUART  BYRNO VNZIP1  VNST  VehBCost  IsOnlineSale  WarrantyCost  \n",
       "0      NaN  21973  33619    FL    7100.0             0          1113  \n",
       "1      NaN  19638  33619    FL    7600.0             0          1053  \n",
       "2      NaN  19638  33619    FL    4900.0             0          1389  \n",
       "3      NaN  19638  33619    FL    4100.0             0           630  \n",
       "4      NaN  19638  33619    FL    4000.0             0          1020  \n",
       "\n",
       "[5 rows x 32 columns]"
      ]
     },
     "execution_count": 1,
     "metadata": {},
     "output_type": "execute_result"
    }
   ],
   "source": [
    "import numpy as np\n",
    "import pandas as pd\n",
    "import xgboost as xgb\n",
    "from sklearn.feature_extraction import DictVectorizer\n",
    "from sklearn.decomposition import PCA \n",
    "import matplotlib.pyplot as plt\n",
    "\n",
    "train = pd.read_csv('training.csv')\n",
    "test = pd.read_csv('test.csv')\n",
    "lab = train['IsBadBuy']\n",
    "ntrain = len(train)\n",
    "train = train.drop('IsBadBuy',axis=1)\n",
    "train = train.drop('RefId',axis=1)\n",
    "test = test.drop('RefId',axis=1)\n",
    "train.head()"
   ]
  },
  {
   "cell_type": "markdown",
   "metadata": {},
   "source": [
    "\n",
    "After importing the data, we want to have some basic insights into the data. The first thing that I check is the percentage of \"kicks\" in the training set. As it shows below, there is only 12% of the data that have been labeled as 1, which means random guessing (always predicts 0) has 88% accuracy. In terms of prediction accuracy, we do not want to have any model that has accuracy lower than 88%. Also, this indicates that we should use AUC, Gini Index, or weighted accuracy as a evaluation metric. The reason is that although \"kicks\" don't happens a lot, the loss of not identifying a \"kick\" is usually greater than misjudge a \"non-kick\". Therefore, we probably want to put more weights to the True Positive cases when calculating accuracy. \n",
    "\n",
    "Also, I examine the correlation coeffients among the numerical variables in the data. Since multicollinearity is usually a big problem in prediction models. And as it shows below, there are some highly correlated variables, e.g. 'MMRAcquisitionAuctionAveragePrice', 'MMRAcquisitionAuctionCleanPrice', and etc. These variables corresponds to the light area in the heatmap.\n"
   ]
  },
  {
   "cell_type": "code",
   "execution_count": 36,
   "metadata": {
    "collapsed": false
   },
   "outputs": [
    {
     "name": "stdout",
     "output_type": "stream",
     "text": [
      "Ratio of kicked case: 0.122987545045\n",
      "Index(['VehYear', 'VehicleAge', 'WheelTypeID', 'VehOdo',\n",
      "       'MMRAcquisitionAuctionAveragePrice', 'MMRAcquisitionAuctionCleanPrice',\n",
      "       'MMRAcquisitionRetailAveragePrice', 'MMRAcquisitonRetailCleanPrice',\n",
      "       'MMRCurrentAuctionAveragePrice', 'MMRCurrentAuctionCleanPrice',\n",
      "       'MMRCurrentRetailAveragePrice', 'MMRCurrentRetailCleanPrice', 'BYRNO',\n",
      "       'VNZIP1', 'VehBCost', 'IsOnlineSale', 'WarrantyCost'],\n",
      "      dtype='object')\n"
     ]
    },
    {
     "data": {
      "image/png": "[encoded data removed]",
      "text/plain": [
       "<matplotlib.figure.Figure at 0x112b839b0>"
      ]
     },
     "metadata": {},
     "output_type": "display_data"
    }
   ],
   "source": [
    "print('Ratio of kicked case:', sum(lab==1)/len(lab))\n",
    "datcheck = train.loc[:,train.dtypes!=object].sample(1000).values\n",
    "datcheck[np.isnan(datcheck)]=0\n",
    "cor1 = np.corrcoef(datcheck.transpose())\n",
    "print(train.columns[train.dtypes!=object])\n",
    "plt.imshow(cor1, cmap='hot', interpolation='nearest')\n",
    "plt.show()"
   ]
  },
  {
   "cell_type": "markdown",
   "metadata": {},
   "source": [
    "I also check missing entries in the data. As it shows below, for most variables, there is not much missing entries. As for \"PRIMEUNIT\" and \"AUCGUART\", most of their entries are `NaN`. In general, I think missing data is not a big issue in this problem."
   ]
  },
  {
   "cell_type": "code",
   "execution_count": 38,
   "metadata": {
    "collapsed": false
   },
   "outputs": [
    {
     "data": {
      "text/plain": [
       "PurchDate                                0\n",
       "Auction                                  0\n",
       "VehYear                                  0\n",
       "VehicleAge                               0\n",
       "Make                                     0\n",
       "Model                                    0\n",
       "Trim                                  2360\n",
       "SubModel                                 8\n",
       "Color                                    8\n",
       "Transmission                             9\n",
       "WheelTypeID                           3169\n",
       "WheelType                             3174\n",
       "VehOdo                                   0\n",
       "Nationality                              5\n",
       "Size                                     5\n",
       "TopThreeAmericanName                     5\n",
       "MMRAcquisitionAuctionAveragePrice       18\n",
       "MMRAcquisitionAuctionCleanPrice         18\n",
       "MMRAcquisitionRetailAveragePrice        18\n",
       "MMRAcquisitonRetailCleanPrice           18\n",
       "MMRCurrentAuctionAveragePrice          315\n",
       "MMRCurrentAuctionCleanPrice            315\n",
       "MMRCurrentRetailAveragePrice           315\n",
       "MMRCurrentRetailCleanPrice             315\n",
       "PRIMEUNIT                            69564\n",
       "AUCGUART                             69564\n",
       "BYRNO                                    0\n",
       "VNZIP1                                   0\n",
       "VNST                                     0\n",
       "VehBCost                                 0\n",
       "IsOnlineSale                             0\n",
       "WarrantyCost                             0\n",
       "dtype: int64"
      ]
     },
     "execution_count": 38,
     "metadata": {},
     "output_type": "execute_result"
    }
   ],
   "source": [
    "train.isnull().sum()"
   ]
  },
  {
   "cell_type": "markdown",
   "metadata": {},
   "source": [
    "## Data Preprocessing\n",
    "After some basic exploration of data, I am ready to process the data. First, I convert the `PurchDate` column from string to numeric (timestamp).  "
   ]
  },
  {
   "cell_type": "code",
   "execution_count": 40,
   "metadata": {
    "collapsed": false
   },
   "outputs": [],
   "source": [
    "train['PurchDate'] = pd.to_datetime(train['PurchDate']).values.astype(np.int64)/1000000000000\n",
    "test['PurchDate'] = pd.to_datetime(test['PurchDate']).values.astype(np.int64)/1000000000000"
   ]
  },
  {
   "cell_type": "markdown",
   "metadata": {},
   "source": [
    "Then I want to deal with the categorical variables in the data. For this basic model, I just convert all the categorical variables to dummy variables."
   ]
  },
  {
   "cell_type": "code",
   "execution_count": 41,
   "metadata": {
    "collapsed": false
   },
   "outputs": [],
   "source": [
    "aldat = pd.concat([train,test],ignore_index=True)\n",
    "aldat = pd.get_dummies(aldat)\n",
    "train = aldat.iloc[:ntrain,].values\n",
    "test = aldat.iloc[ntrain:,].values"
   ]
  },
  {
   "cell_type": "markdown",
   "metadata": {},
   "source": [
    "Then, as I have discussed previously, missing data is not really a big issue here. Consequently, I just set all of the `NaN` to 0."
   ]
  },
  {
   "cell_type": "code",
   "execution_count": 42,
   "metadata": {
    "collapsed": false
   },
   "outputs": [
    {
     "data": {
      "text/plain": [
       "(72983, 2339)"
      ]
     },
     "execution_count": 42,
     "metadata": {},
     "output_type": "execute_result"
    }
   ],
   "source": [
    "train[np.isnan(train)] = 0\n",
    "test[np.isnan(test)] = 0\n",
    "train.shape"
   ]
  },
  {
   "cell_type": "markdown",
   "metadata": {},
   "source": [
    "As it shows above, dimension of training dataset expands to 2339, which is too large. Besides, I have identified multicollinearity in this data. Therefore, PCA is applied to reduce dimension."
   ]
  },
  {
   "cell_type": "code",
   "execution_count": 43,
   "metadata": {
    "collapsed": false
   },
   "outputs": [
    {
     "data": {
      "text/plain": [
       "PCA(copy=True, iterated_power='auto', n_components=40, random_state=None,\n",
       "  svd_solver='auto', tol=0.0, whiten=False)"
      ]
     },
     "execution_count": 43,
     "metadata": {},
     "output_type": "execute_result"
    }
   ],
   "source": [
    "pcamodel = PCA(n_components=40)\n",
    "pcamodel.fit(train)"
   ]
  },
  {
   "cell_type": "code",
   "execution_count": 44,
   "metadata": {
    "collapsed": false
   },
   "outputs": [],
   "source": [
    "train = pcamodel.transform(train)\n",
    "test = pcamodel.transform(test)"
   ]
  },
  {
   "cell_type": "markdown",
   "metadata": {},
   "source": [
    "## Model Fitting\n",
    "After processing the data, we are ready to fit the data into the model. Before running the model, I seperated 3% of training data out as the validation set."
   ]
  },
  {
   "cell_type": "code",
   "execution_count": 59,
   "metadata": {
    "collapsed": false
   },
   "outputs": [
    {
     "name": "stderr",
     "output_type": "stream",
     "text": [
      "/Users/weiqingyu/anaconda/lib/python3.5/site-packages/ipykernel/__main__.py:2: VisibleDeprecationWarning: boolean index did not match indexed array along dimension 0; dimension is 70768 but corresponding boolean dimension is 72983\n",
      "  from ipykernel import kernelapp as app\n"
     ]
    },
    {
     "ename": "IndexError",
     "evalue": "index 70768 is out of bounds for axis 0 with size 70768",
     "output_type": "error",
     "traceback": [
      "\u001b[0;31m---------------------------------------------------------------------------\u001b[0m",
      "\u001b[0;31mIndexError\u001b[0m                                Traceback (most recent call last)",
      "\u001b[0;32m<ipython-input-59-806e91439846>\u001b[0m in \u001b[0;36m<module>\u001b[0;34m()\u001b[0m\n\u001b[1;32m      1\u001b[0m \u001b[0msamp\u001b[0m \u001b[0;34m=\u001b[0m \u001b[0mnp\u001b[0m\u001b[0;34m.\u001b[0m\u001b[0mrandom\u001b[0m\u001b[0;34m.\u001b[0m\u001b[0mrand\u001b[0m\u001b[0;34m(\u001b[0m\u001b[0mntrain\u001b[0m\u001b[0;34m)\u001b[0m\u001b[0;34m<\u001b[0m\u001b[0;36m0.97\u001b[0m\u001b[0;34m\u001b[0m\u001b[0m\n\u001b[0;32m----> 2\u001b[0;31m \u001b[0mtrain\u001b[0m\u001b[0;34m,\u001b[0m \u001b[0mlab1\u001b[0m\u001b[0;34m,\u001b[0m \u001b[0mcross\u001b[0m\u001b[0;34m,\u001b[0m \u001b[0mlab2\u001b[0m \u001b[0;34m=\u001b[0m \u001b[0mtrain\u001b[0m\u001b[0;34m[\u001b[0m\u001b[0msamp\u001b[0m\u001b[0;34m]\u001b[0m\u001b[0;34m,\u001b[0m \u001b[0mlab\u001b[0m\u001b[0;34m[\u001b[0m\u001b[0msamp\u001b[0m\u001b[0;34m]\u001b[0m\u001b[0;34m,\u001b[0m \u001b[0mtrain\u001b[0m\u001b[0;34m[\u001b[0m\u001b[0;34m~\u001b[0m\u001b[0msamp\u001b[0m\u001b[0;34m]\u001b[0m\u001b[0;34m,\u001b[0m \u001b[0mlab\u001b[0m\u001b[0;34m[\u001b[0m\u001b[0;34m~\u001b[0m\u001b[0msamp\u001b[0m\u001b[0;34m]\u001b[0m\u001b[0;34m\u001b[0m\u001b[0m\n\u001b[0m\u001b[1;32m      3\u001b[0m \u001b[0mxgtest\u001b[0m \u001b[0;34m=\u001b[0m \u001b[0mxgb\u001b[0m\u001b[0;34m.\u001b[0m\u001b[0mDMatrix\u001b[0m\u001b[0;34m(\u001b[0m\u001b[0mtest\u001b[0m\u001b[0;34m)\u001b[0m\u001b[0;34m\u001b[0m\u001b[0m\n\u001b[1;32m      4\u001b[0m \u001b[0mxgtrain\u001b[0m \u001b[0;34m=\u001b[0m \u001b[0mxgb\u001b[0m\u001b[0;34m.\u001b[0m\u001b[0mDMatrix\u001b[0m\u001b[0;34m(\u001b[0m\u001b[0mtrain\u001b[0m\u001b[0;34m,\u001b[0m\u001b[0mlabel\u001b[0m\u001b[0;34m=\u001b[0m\u001b[0mlab1\u001b[0m\u001b[0;34m)\u001b[0m\u001b[0;34m\u001b[0m\u001b[0m\n\u001b[1;32m      5\u001b[0m \u001b[0mxgeval\u001b[0m \u001b[0;34m=\u001b[0m \u001b[0mxgb\u001b[0m\u001b[0;34m.\u001b[0m\u001b[0mDMatrix\u001b[0m\u001b[0;34m(\u001b[0m\u001b[0mcross\u001b[0m\u001b[0;34m,\u001b[0m\u001b[0mlabel\u001b[0m\u001b[0;34m=\u001b[0m\u001b[0mlab2\u001b[0m\u001b[0;34m)\u001b[0m\u001b[0;34m\u001b[0m\u001b[0m\n",
      "\u001b[0;31mIndexError\u001b[0m: index 70768 is out of bounds for axis 0 with size 70768"
     ]
    }
   ],
   "source": [
    "samp = np.random.rand(ntrain)<0.97\n",
    "train, lab1, cross, lab2 = train[samp], lab[samp], train[~samp], lab[~samp]\n",
    "xgtest = xgb.DMatrix(test)\n",
    "xgtrain = xgb.DMatrix(train,label=lab1)\n",
    "xgeval = xgb.DMatrix(cross,label=lab2)\n",
    "evallist = [(xgtrain,'train'),(xgeval,'val')]"
   ]
  },
  {
   "cell_type": "markdown",
   "metadata": {},
   "source": [
    "The parameters of XGBoost are set as below. Personally, I think the important parameters are:\n",
    "* `max_depth`: Controls the maximum depth of the decision tree. It directly affects the complexity of the model.\n",
    "* `num_boost_round`: Number of tree to build. Also directly affacts the complexity of the model.\n",
    "* `lambda` and `alpha`: These two parameters regularize the model and prevents overfitting."
   ]
  },
  {
   "cell_type": "code",
   "execution_count": 67,
   "metadata": {
    "collapsed": false
   },
   "outputs": [
    {
     "name": "stdout",
     "output_type": "stream",
     "text": [
      "[0]\ttrain-auc:0.71405\ttrain-error:0.101656\tval-auc:0.719281\tval-error:0.108804\n",
      "[1]\ttrain-auc:0.74162\ttrain-error:0.098929\tval-auc:0.740752\tval-error:0.102032\n",
      "[2]\ttrain-auc:0.751899\ttrain-error:0.097558\tval-auc:0.747313\tval-error:0.099774\n",
      "[3]\ttrain-auc:0.758417\ttrain-error:0.09736\tval-auc:0.745594\tval-error:0.099323\n",
      "[4]\ttrain-auc:0.763716\ttrain-error:0.097544\tval-auc:0.748512\tval-error:0.099323\n",
      "[5]\ttrain-auc:0.770915\ttrain-error:0.097601\tval-auc:0.746738\tval-error:0.09842\n",
      "[6]\ttrain-auc:0.778028\ttrain-error:0.097473\tval-auc:0.750731\tval-error:0.097968\n",
      "[7]\ttrain-auc:0.780955\ttrain-error:0.097459\tval-auc:0.752585\tval-error:0.097968\n",
      "[8]\ttrain-auc:0.786167\ttrain-error:0.097233\tval-auc:0.750243\tval-error:0.097968\n",
      "[9]\ttrain-auc:0.793588\ttrain-error:0.097021\tval-auc:0.751027\tval-error:0.09842\n",
      "[10]\ttrain-auc:0.800335\ttrain-error:0.096739\tval-auc:0.747499\tval-error:0.098871\n",
      "[11]\ttrain-auc:0.806586\ttrain-error:0.096555\tval-auc:0.743307\tval-error:0.097968\n",
      "[12]\ttrain-auc:0.812068\ttrain-error:0.096315\tval-auc:0.742741\tval-error:0.097065\n",
      "[13]\ttrain-auc:0.819103\ttrain-error:0.095933\tval-auc:0.74691\tval-error:0.097517\n",
      "[14]\ttrain-auc:0.825327\ttrain-error:0.095608\tval-auc:0.747361\tval-error:0.098871\n",
      "[15]\ttrain-auc:0.830993\ttrain-error:0.095382\tval-auc:0.743609\tval-error:0.099323\n",
      "[16]\ttrain-auc:0.83544\ttrain-error:0.095382\tval-auc:0.74477\tval-error:0.100226\n",
      "[17]\ttrain-auc:0.840081\ttrain-error:0.095156\tval-auc:0.745614\tval-error:0.097517\n",
      "[18]\ttrain-auc:0.846776\ttrain-error:0.095099\tval-auc:0.742263\tval-error:0.09842\n",
      "[19]\ttrain-auc:0.852308\ttrain-error:0.094619\tval-auc:0.745451\tval-error:0.09842\n",
      "[20]\ttrain-auc:0.857315\ttrain-error:0.094449\tval-auc:0.745045\tval-error:0.097968\n",
      "[21]\ttrain-auc:0.863396\ttrain-error:0.093927\tval-auc:0.751099\tval-error:0.097968\n",
      "[22]\ttrain-auc:0.868305\ttrain-error:0.093771\tval-auc:0.748965\tval-error:0.097517\n",
      "[23]\ttrain-auc:0.872442\ttrain-error:0.093616\tval-auc:0.745513\tval-error:0.097065\n",
      "[24]\ttrain-auc:0.875781\ttrain-error:0.093319\tval-auc:0.748966\tval-error:0.096614\n",
      "[25]\ttrain-auc:0.879969\ttrain-error:0.093135\tval-auc:0.751959\tval-error:0.096614\n",
      "[26]\ttrain-auc:0.884237\ttrain-error:0.092796\tval-auc:0.753909\tval-error:0.096163\n",
      "[27]\ttrain-auc:0.887375\ttrain-error:0.09257\tval-auc:0.753192\tval-error:0.096614\n",
      "[28]\ttrain-auc:0.891945\ttrain-error:0.092401\tval-auc:0.752392\tval-error:0.097968\n",
      "[29]\ttrain-auc:0.8945\ttrain-error:0.092104\tval-auc:0.752424\tval-error:0.097065\n"
     ]
    }
   ],
   "source": [
    "param = {'max_depth':12, 'eta':0.1, 'silent':1, 'objective':'binary:logistic',\n",
    "         'subsample':0.3,'lambda':1.5,'alpha':1, 'eval_metric':['auc','error']}\n",
    "xgmodel = xgb.train(param,xgtrain,num_boost_round=30,evals=evallist)"
   ]
  },
  {
   "cell_type": "markdown",
   "metadata": {},
   "source": [
    "## Result Analysis\n",
    "After we train the model, we can get the prediction on the validation set. The output of our prediction is a probability. As it shows below, the false negative rate is pretty high, and that is the part that should be improved."
   ]
  },
  {
   "cell_type": "code",
   "execution_count": 68,
   "metadata": {
    "collapsed": false
   },
   "outputs": [],
   "source": [
    "pred = xgmodel.predict(xgeval)"
   ]
  },
  {
   "cell_type": "code",
   "execution_count": 81,
   "metadata": {
    "collapsed": false
   },
   "outputs": [
    {
     "name": "stdout",
     "output_type": "stream",
     "text": [
      "61 9\n",
      "206 1939\n"
     ]
    }
   ],
   "source": [
    "lab2.index=range(len(lab2))\n",
    "xpred = pred>0.5\n",
    "print(sum(np.logical_and(xpred==1,lab2==1)),sum(np.logical_and(xpred==1,lab2==0)))\n",
    "print(sum(np.logical_and(xpred==0,lab2==1)),sum(np.logical_and(xpred==0,lab2==0)))\n"
   ]
  },
  {
   "cell_type": "markdown",
   "metadata": {},
   "source": [
    "## Improvements\n",
    "* Modify the objective function to make it more suitable for our problem, where we want to put more focus on the True Positive cases.\n",
    "* Carefully check if there is categorical variables that is ordinal. For those variables, we should not convert them to dummy variables.\n",
    "* Deal with the multicollinearity problem through feature engineering. Even though we applied PCA, which deals with multicollinearity in some way, highly dependent predictors still influence the performance of model as discussed in [here](https://stats.stackexchange.com/questions/50537/should-one-remove-highly-correlated-variables-before-doing-pca). \n",
    "* Implement ensemble methods to combine results from multiple algorithms usually helps to boost the accuracy.\n",
    "* Use feature engineering and exploratory analysis to create better features."
   ]
  },
  {
   "cell_type": "code",
   "execution_count": null,
   "metadata": {
    "collapsed": true
   },
   "outputs": [],
   "source": []
  }
 ],
 "metadata": {
  "kernelspec": {
   "display_name": "Python 3",
   "language": "python",
   "name": "python3"
  },
  "language_info": {
   "codemirror_mode": {
    "name": "ipython",
    "version": 3
   },
   "file_extension": ".py",
   "mimetype": "text/x-python",
   "name": "python",
   "nbconvert_exporter": "python",
   "pygments_lexer": "ipython3",
   "version": "3.5.2"
  }
 },
 "nbformat": 4,
 "nbformat_minor": 2
}
